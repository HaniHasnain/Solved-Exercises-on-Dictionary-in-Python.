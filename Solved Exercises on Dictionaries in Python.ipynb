{
 "cells": [
  {
   "cell_type": "code",
   "execution_count": 3,
   "id": "b1e6b9ab-11f9-4321-bb40-28d42b6f0efe",
   "metadata": {},
   "outputs": [
    {
     "name": "stdout",
     "output_type": "stream",
     "text": [
      "Robert\n",
      "10\n",
      "Los Angeles\n",
      "['Painting', 'reading', 'travelling']\n"
     ]
    }
   ],
   "source": [
    "information = {\n",
    "    \"name\":\"Robert\",\n",
    "    \"age\" :10,\n",
    "    \"city\":\"Los Angeles\",\n",
    "    \"hobbies\":[\"Painting\",\"reading\",\"travelling\"]\n",
    "}\n",
    "print(information[\"name\"])\n",
    "print(information[\"age\"])\n",
    "print(information[\"city\"])\n",
    "print(information[\"hobbies\"])"
   ]
  },
  {
   "cell_type": "code",
   "execution_count": 5,
   "id": "4014041b-8586-4a2f-8c1a-544ca7c6cf8f",
   "metadata": {},
   "outputs": [
    {
     "name": "stdout",
     "output_type": "stream",
     "text": [
      "{'hello': 1, 'world': 2, 'welcome': 1, 'to': 1, 'the': 1, 'of': 1, 'python': 1}\n"
     ]
    }
   ],
   "source": [
    "def count_word_frequency(text):\n",
    "    text = text.lower()\n",
    "    text = ''.join(char if char.isalnum() or char.isspace() else ' ' for char in text)\n",
    "    words = text.split()\n",
    "    word_count = {}\n",
    "    for word in words:\n",
    "        if word in word_count:\n",
    "            word_count[word] += 1\n",
    "        else:\n",
    "            word_count[word] = 1\n",
    "    return word_count\n",
    "text = \"Hello world! Welcome to the world of Python.\"\n",
    "word_frequency = count_word_frequency(text)\n",
    "print(word_frequency)"
   ]
  },
  {
   "cell_type": "code",
   "execution_count": 19,
   "id": "a93415da-bee0-4c04-a903-0b4c06be2576",
   "metadata": {},
   "outputs": [
    {
     "name": "stdout",
     "output_type": "stream",
     "text": [
      "apple:15\n",
      "bananas:10\n",
      "orange:5\n",
      "grape:12\n",
      "banana:3\n"
     ]
    }
   ],
   "source": [
    "inventory = {\n",
    "    \"apple\":15,\n",
    "    \"bananas\":10,\n",
    "    \"orange\":5\n",
    "}\n",
    "inventory[\"grape\"]=12\n",
    "inventory[\"banana\"]=3\n",
    "for item, quantity in inventory.items():\n",
    "    print(f\"{item}:{quantity}\")"
   ]
  },
  {
   "cell_type": "code",
   "execution_count": 31,
   "id": "d2868745-5a2a-40f3-93a8-13f3b056c0c0",
   "metadata": {},
   "outputs": [
    {
     "name": "stdout",
     "output_type": "stream",
     "text": [
      "The most popular product category is 'Electronics' with 10 items sold.\n"
     ]
    }
   ],
   "source": [
    "customer_orders = [\n",
    "    {'order_id': 1, 'product_category': 'Electronics', 'quantity': 2},\n",
    "    {'order_id': 2, 'product_category': 'Clothing', 'quantity': 1},\n",
    "    {'order_id': 3, 'product_category': 'Electronics', 'quantity': 1},\n",
    "    {'order_id': 4, 'product_category': 'Furniture', 'quantity': 3},\n",
    "    {'order_id': 5, 'product_category': 'Electronics', 'quantity': 4},\n",
    "    {'order_id': 6, 'product_category': 'Clothing', 'quantity': 2},\n",
    "    {'order_id': 7, 'product_category': 'Furniture', 'quantity': 1},\n",
    "    {'order_id': 8, 'product_category': 'Electronics', 'quantity': 3},\n",
    "    {'order_id': 9, 'product_category': 'Clothing', 'quantity': 1},\n",
    "    {'order_id': 10, 'product_category': 'Furniture', 'quantity': 2}\n",
    "]\n",
    "\n",
    "category_sales = {}\n",
    "\n",
    "for order in customer_orders:\n",
    "    category = order['product_category']\n",
    "    quantity = order['quantity']\n",
    "    \n",
    "    if category in category_sales:\n",
    "        category_sales[category] += quantity \n",
    "    else:\n",
    "        category_sales[category] = quantity  \n",
    "\n",
    "most_popular_category = max(category_sales, key=category_sales.get)\n",
    "most_popular_quantity = category_sales[most_popular_category]\n",
    "\n",
    "\n",
    "print(f\"The most popular product category is '{most_popular_category}' with {most_popular_quantity} items sold.\")\n"
   ]
  },
  {
   "cell_type": "code",
   "execution_count": 29,
   "id": "136af58c-5682-40cb-887f-62c0db6dc378",
   "metadata": {},
   "outputs": [
    {
     "name": "stdout",
     "output_type": "stream",
     "text": [
      "Student Grades: {'Hani': 85, 'Noor': 92, 'Amna': 78, 'Fatima': 88, 'Ibrahim': 95}\n",
      "Average Grade: 87.60\n"
     ]
    }
   ],
   "source": [
    "student_grades = {\n",
    "    'Hani': 85,\n",
    "    'Noor': 92,\n",
    "    'Amna': 78,\n",
    "    'Fatima': 88,\n",
    "    'Ibrahim': 95\n",
    "}\n",
    "total_grades = sum(student_grades.values())\n",
    "num_students = len(student_grades)  \n",
    "average_grade = total_grades / num_students \n",
    "\n",
    "\n",
    "print(f\"Student Grades: {student_grades}\")\n",
    "print(f\"Average Grade: {average_grade:.2f}\")\n"
   ]
  },
  {
   "cell_type": "code",
   "execution_count": 33,
   "id": "1a14de7e-8af3-436b-8621-2c289ad400c5",
   "metadata": {},
   "outputs": [
    {
     "name": "stdout",
     "output_type": "stream",
     "text": [
      "Product Tablet added successfully.\n",
      "Quantity of Laptop updated. New quantity: 15\n",
      "Total inventory value: $32750\n",
      "Low-stock items:\n",
      "Laptop: 15 items left (Price: $800)\n",
      "Monitor: 15 items left (Price: $150)\n"
     ]
    }
   ],
   "source": [
    "inventory = {\n",
    "    \"Laptop\": {\"quantity\": 10, \"price\": 800},\n",
    "    \"Phone\": {\"quantity\": 20, \"price\": 500},\n",
    "    \"Headphones\": {\"quantity\": 50, \"price\": 50},\n",
    "    \"Monitor\": {\"quantity\": 15, \"price\": 150}\n",
    "}\n",
    "\n",
    "def add_product(name, quantity, price):\n",
    "    \"\"\"Add a new product to the inventory.\"\"\"\n",
    "    if name in inventory:\n",
    "        print(f\"Product {name} already exists.\")\n",
    "    else:\n",
    "        inventory[name] = {\"quantity\": quantity, \"price\": price}\n",
    "        print(f\"Product {name} added successfully.\")\n",
    "\n",
    "def update_quantity(name, quantity):\n",
    "    \"\"\"Update the quantity of an existing product.\"\"\"\n",
    "    if name in inventory:\n",
    "        inventory[name][\"quantity\"] += quantity\n",
    "        print(f\"Quantity of {name} updated. New quantity: {inventory[name]['quantity']}\")\n",
    "    else:\n",
    "        print(f\"Product {name} not found in inventory.\")\n",
    "\n",
    "def calculate_inventory_value():\n",
    "    \"\"\"Calculate and return the total value of the inventory.\"\"\"\n",
    "    total_value = sum(product[\"quantity\"] * product[\"price\"] for product in inventory.values())\n",
    "    return total_value\n",
    "\n",
    "def low_stock_report(threshold=10):\n",
    "    \"\"\"Generate a report of products with stock lower than the threshold.\"\"\"\n",
    "    low_stock_items = {name: info for name, info in inventory.items() if info[\"quantity\"] < threshold}\n",
    "    \n",
    "    if low_stock_items:\n",
    "        print(\"Low-stock items:\")\n",
    "        for name, info in low_stock_items.items():\n",
    "            print(f\"{name}: {info['quantity']} items left (Price: ${info['price']})\")\n",
    "    else:\n",
    "        print(\"No low-stock items.\")\n",
    "        \n",
    "add_product(\"Tablet\", 30, 200)\n",
    "\n",
    "update_quantity(\"Laptop\", 5)\n",
    "\n",
    "total_value = calculate_inventory_value()\n",
    "print(f\"Total inventory value: ${total_value}\")\n",
    "\n",
    "low_stock_report(20)\n"
   ]
  },
  {
   "cell_type": "code",
   "execution_count": 35,
   "id": "510d7e0a-0a39-4ff7-beba-35ff2faec0e8",
   "metadata": {},
   "outputs": [
    {
     "name": "stdout",
     "output_type": "stream",
     "text": [
      "Average grades:\n",
      "Hani: 87.67\n",
      "Noor: 79.00\n",
      "Amna: 88.33\n",
      "Fatima: 82.33\n",
      "Ibrahim: 92.33\n",
      "\n",
      "Highest grade in Math: Amna with 92 grade.\n",
      "Lowest grade in Math: Noor with 75 grade.\n",
      "\n",
      "Sorted students by average grades:\n",
      "Ibrahim: 92.33\n",
      "Amna: 88.33\n",
      "Hani: 87.67\n",
      "Fatima: 82.33\n",
      "Noor: 79.00\n"
     ]
    }
   ],
   "source": [
    "students = {\n",
    "    'Hani': {'Math': 85, 'English': 90, 'History': 88},\n",
    "    'Noor': {'Math': 75, 'English': 82, 'History': 80},\n",
    "    'Amna': {'Math': 92, 'English': 89, 'History': 84},\n",
    "    'Fatima': {'Math': 78, 'English': 83, 'History': 86},\n",
    "    'Ibrahim': {'Math': 91, 'English': 94, 'History': 92}\n",
    "}\n",
    "\n",
    "def calculate_average(grades):\n",
    "    return sum(grades.values()) / len(grades)\n",
    "\n",
    "student_averages = {student: calculate_average(grades) for student, grades in students.items()}\n",
    "\n",
    "def find_highest_lowest(subject):\n",
    "    highest_grade = None\n",
    "    lowest_grade = None\n",
    "    highest_student = \"\"\n",
    "    lowest_student = \"\"\n",
    "    \n",
    "    for student, grades in students.items():\n",
    "        grade = grades.get(subject)\n",
    "        if grade is not None:\n",
    "            if highest_grade is None or grade > highest_grade:\n",
    "                highest_grade = grade\n",
    "                highest_student = student\n",
    "            if lowest_grade is None or grade < lowest_grade:\n",
    "                lowest_grade = grade\n",
    "                lowest_student = student\n",
    "    \n",
    "    return (highest_student, highest_grade), (lowest_student, lowest_grade)\n",
    "\n",
    "def sort_students_by_average():\n",
    "    return sorted(student_averages.items(), key=lambda x: x[1], reverse=True)\n",
    "\n",
    "print(\"Average grades:\")\n",
    "for student, avg in student_averages.items():\n",
    "    print(f\"{student}: {avg:.2f}\")\n",
    "highest, lowest = find_highest_lowest('Math')\n",
    "print(f\"\\nHighest grade in Math: {highest[0]} with {highest[1]} grade.\")\n",
    "print(f\"Lowest grade in Math: {lowest[0]} with {lowest[1]} grade.\")\n",
    "\n",
    "print(\"\\nSorted students by average grades:\")\n",
    "sorted_students = sort_students_by_average()\n",
    "for student, avg in sorted_students:\n",
    "    print(f\"{student}: {avg:.2f}\")\n"
   ]
  },
  {
   "cell_type": "code",
   "execution_count": 37,
   "id": "51c6cc68-55cc-4db3-8bde-027dfd072753",
   "metadata": {},
   "outputs": [
    {
     "name": "stdout",
     "output_type": "stream",
     "text": [
      "2 Laptop(s) added to the cart.\n",
      "1 Smartphone(s) added to the cart.\n",
      "3 Headphones(s) added to the cart.\n",
      "1 Smartphone(s) removed from the cart.\n",
      "Total cost before discount and tax: $2450.00\n",
      "Final price after discount and tax: $2381.40\n",
      "Discount applied: $245.00\n",
      "Tax applied: $176.40\n"
     ]
    }
   ],
   "source": [
    "inventory = {\n",
    "    \"Laptop\": {\"price\": 1000, \"quantity\": 10},\n",
    "    \"Smartphone\": {\"price\": 800, \"quantity\": 15},\n",
    "    \"Headphones\": {\"price\": 150, \"quantity\": 30},\n",
    "    \"Keyboard\": {\"price\": 50, \"quantity\": 50},\n",
    "    \"Mouse\": {\"price\": 30, \"quantity\": 100}\n",
    "}\n",
    "\n",
    "cart = {}\n",
    "\n",
    "def add_to_cart(product_name, quantity):\n",
    "    if product_name in inventory:\n",
    "        if inventory[product_name][\"quantity\"] >= quantity:\n",
    "            if product_name in cart:\n",
    "                cart[product_name][\"quantity\"] += quantity\n",
    "            else:\n",
    "                cart[product_name] = {\"price\": inventory[product_name][\"price\"], \"quantity\": quantity}\n",
    "            inventory[product_name][\"quantity\"] -= quantity\n",
    "            print(f\"{quantity} {product_name}(s) added to the cart.\")\n",
    "        else:\n",
    "            print(f\"Sorry, only {inventory[product_name]['quantity']} {product_name}(s) available in stock.\")\n",
    "    else:\n",
    "        print(f\"Product {product_name} not found.\")\n",
    "\n",
    "def remove_from_cart(product_name, quantity):\n",
    "    if product_name in cart:\n",
    "        if cart[product_name][\"quantity\"] >= quantity:\n",
    "            cart[product_name][\"quantity\"] -= quantity\n",
    "            inventory[product_name][\"quantity\"] += quantity\n",
    "            if cart[product_name][\"quantity\"] == 0:\n",
    "                del cart[product_name]\n",
    "            print(f\"{quantity} {product_name}(s) removed from the cart.\")\n",
    "        else:\n",
    "            print(f\"You're trying to remove more {product_name}(s) than you have in the cart.\")\n",
    "    else:\n",
    "        print(f\"{product_name} is not in the cart.\")\n",
    "\n",
    "def calculate_total():\n",
    "    total = sum(item[\"price\"] * item[\"quantity\"] for item in cart.values())\n",
    "    return total\n",
    "\n",
    "def apply_discount_and_tax(total_cost, discount_percent=0, tax_percent=0):\n",
    "    discount_amount = (discount_percent / 100) * total_cost\n",
    "    discounted_price = total_cost - discount_amount\n",
    "    tax_amount = (tax_percent / 100) * discounted_price\n",
    "    final_price = discounted_price + tax_amount\n",
    "    return final_price, discount_amount, tax_amount\n",
    "\n",
    "add_to_cart(\"Laptop\", 2)\n",
    "add_to_cart(\"Smartphone\", 1)\n",
    "add_to_cart(\"Headphones\", 3)\n",
    "\n",
    "remove_from_cart(\"Smartphone\", 1)\n",
    "\n",
    "total_cost = calculate_total()\n",
    "print(f\"Total cost before discount and tax: ${total_cost:.2f}\")\n",
    "\n",
    "final_price, discount, tax = apply_discount_and_tax(total_cost, discount_percent=10, tax_percent=8)\n",
    "print(f\"Final price after discount and tax: ${final_price:.2f}\")\n",
    "print(f\"Discount applied: ${discount:.2f}\")\n",
    "print(f\"Tax applied: ${tax:.2f}\")\n"
   ]
  },
  {
   "cell_type": "code",
   "execution_count": null,
   "id": "50723ec6-4f81-4806-b7af-0103946575a5",
   "metadata": {},
   "outputs": [],
   "source": []
  }
 ],
 "metadata": {
  "kernelspec": {
   "display_name": "Python 3 (ipykernel)",
   "language": "python",
   "name": "python3"
  },
  "language_info": {
   "codemirror_mode": {
    "name": "ipython",
    "version": 3
   },
   "file_extension": ".py",
   "mimetype": "text/x-python",
   "name": "python",
   "nbconvert_exporter": "python",
   "pygments_lexer": "ipython3",
   "version": "3.12.4"
  }
 },
 "nbformat": 4,
 "nbformat_minor": 5
}
